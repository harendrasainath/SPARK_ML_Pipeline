{
  "nbformat": 4,
  "nbformat_minor": 0,
  "metadata": {
    "colab": {
      "name": "Spark_ML_Pipeline.ipynb",
      "provenance": [],
      "authorship_tag": "ABX9TyOOrJivWcoshg/6OWLXcte9",
      "include_colab_link": true
    },
    "kernelspec": {
      "name": "python3",
      "display_name": "Python 3"
    },
    "language_info": {
      "name": "python"
    }
  },
  "cells": [
    {
      "cell_type": "markdown",
      "metadata": {
        "id": "view-in-github",
        "colab_type": "text"
      },
      "source": [
        "<a href=\"https://colab.research.google.com/github/harendrasainath/SPARK_ML_Pipeline/blob/main/Spark_ML_Pipeline.ipynb\" target=\"_parent\"><img src=\"https://colab.research.google.com/assets/colab-badge.svg\" alt=\"Open In Colab\"/></a>"
      ]
    },
    {
      "cell_type": "markdown",
      "source": [
        "#Initializing Spark"
      ],
      "metadata": {
        "id": "uOp-EydkO2eV"
      }
    },
    {
      "cell_type": "code",
      "execution_count": 100,
      "metadata": {
        "colab": {
          "base_uri": "https://localhost:8080/",
          "height": 196
        },
        "id": "xEx7mpG-ORm5",
        "outputId": "9d775435-b8bf-456d-ccd4-1060e6e031a7"
      },
      "outputs": [
        {
          "output_type": "execute_result",
          "data": {
            "text/plain": [
              "<SparkContext master=local[*] appName=Spark_Pipeline>"
            ],
            "text/html": [
              "\n",
              "        <div>\n",
              "            <p><b>SparkContext</b></p>\n",
              "\n",
              "            <p><a href=\"http://c3d647b20b04:4040\">Spark UI</a></p>\n",
              "\n",
              "            <dl>\n",
              "              <dt>Version</dt>\n",
              "                <dd><code>v3.3.0</code></dd>\n",
              "              <dt>Master</dt>\n",
              "                <dd><code>local[*]</code></dd>\n",
              "              <dt>AppName</dt>\n",
              "                <dd><code>Spark_Pipeline</code></dd>\n",
              "            </dl>\n",
              "        </div>\n",
              "        "
            ]
          },
          "metadata": {},
          "execution_count": 100
        }
      ],
      "source": [
        "!pip3 -q install pyspark\n",
        "from pyspark.sql import SparkSession\n",
        "spark = SparkSession.builder.appName('Spark_Pipeline').master(\"local[*]\").getOrCreate()\n",
        "sc = spark.sparkContext\n",
        "sc"
      ]
    },
    {
      "cell_type": "markdown",
      "source": [
        "##Libraries"
      ],
      "metadata": {
        "id": "WSb0ObCVPF-m"
      }
    },
    {
      "cell_type": "code",
      "source": [
        "import numpy as np\n",
        "import seaborn as sns\n",
        "import pandas as pd\n",
        "import matplotlib.pyplot as plt\n",
        "from sklearn.metrics import confusion_matrix\n",
        "\n",
        "from pyspark.sql.functions import mean\n",
        "from pyspark.ml.feature import OneHotEncoder, StringIndexer, VectorAssembler,StandardScaler\n",
        "from pyspark.ml import Pipeline\n",
        "from pyspark.ml import PipelineModel\n",
        "from pyspark.ml.classification import LogisticRegression\n",
        "from pyspark.ml.classification import RandomForestClassifier\n",
        "from pyspark.ml.classification import GBTClassifier\n",
        "from pyspark.ml.evaluation import MulticlassClassificationEvaluator\n",
        "from pyspark.ml.evaluation import BinaryClassificationEvaluator\n",
        "from pyspark.ml.classification import LogisticRegression,RandomForestClassifier,GBTClassifier,DecisionTreeClassifier,LinearSVC,NaiveBayes"
      ],
      "metadata": {
        "id": "kf4_87TrPE9_"
      },
      "execution_count": 101,
      "outputs": []
    },
    {
      "cell_type": "markdown",
      "source": [
        "#DATA"
      ],
      "metadata": {
        "id": "787txEj_PT8W"
      }
    },
    {
      "cell_type": "markdown",
      "source": [
        "##Load Data"
      ],
      "metadata": {
        "id": "fVHipCDbPUE-"
      }
    },
    {
      "cell_type": "code",
      "source": [
        "!wget -O brain_stroke.csv -q https://raw.githubusercontent.com/harendrasainath/SPARK_ML_Pipeline/main/brain_stroke.csv"
      ],
      "metadata": {
        "id": "N5ZZ_94SPTat"
      },
      "execution_count": 102,
      "outputs": []
    },
    {
      "cell_type": "code",
      "source": [
        "#loading dataset into spark dataframe\n",
        "df = spark.read.csv('brain_stroke.csv', inferSchema=True,header=True)\n",
        "df.show(5)"
      ],
      "metadata": {
        "colab": {
          "base_uri": "https://localhost:8080/"
        },
        "id": "elkOMyBIPcjs",
        "outputId": "ec5e4cfb-68b8-43ef-b687-3592a8237346"
      },
      "execution_count": 103,
      "outputs": [
        {
          "output_type": "stream",
          "name": "stdout",
          "text": [
            "+------+----+------------+-------------+------------+-------------+--------------+-----------------+----+---------------+------+\n",
            "|gender| age|hypertension|heart_disease|ever_married|    work_type|Residence_type|avg_glucose_level| bmi| smoking_status|stroke|\n",
            "+------+----+------------+-------------+------------+-------------+--------------+-----------------+----+---------------+------+\n",
            "|  Male|67.0|           0|            1|         Yes|      Private|         Urban|           228.69|36.6|formerly smoked|     1|\n",
            "|  Male|80.0|           0|            1|         Yes|      Private|         Rural|           105.92|32.5|   never smoked|     1|\n",
            "|Female|49.0|           0|            0|         Yes|      Private|         Urban|           171.23|34.4|         smokes|     1|\n",
            "|Female|79.0|           1|            0|         Yes|Self-employed|         Rural|           174.12|24.0|   never smoked|     1|\n",
            "|  Male|81.0|           0|            0|         Yes|      Private|         Urban|           186.21|29.0|formerly smoked|     1|\n",
            "+------+----+------------+-------------+------------+-------------+--------------+-----------------+----+---------------+------+\n",
            "only showing top 5 rows\n",
            "\n"
          ]
        }
      ]
    },
    {
      "cell_type": "markdown",
      "source": [
        "##Basic EDA"
      ],
      "metadata": {
        "id": "T_QiZzmEP5nV"
      }
    },
    {
      "cell_type": "code",
      "source": [
        "df.count()"
      ],
      "metadata": {
        "colab": {
          "base_uri": "https://localhost:8080/"
        },
        "id": "iZkXW2pmRAXG",
        "outputId": "fdfbb821-9c28-4cd0-bf24-d51440e4e3ff"
      },
      "execution_count": 104,
      "outputs": [
        {
          "output_type": "execute_result",
          "data": {
            "text/plain": [
              "4981"
            ]
          },
          "metadata": {},
          "execution_count": 104
        }
      ]
    },
    {
      "cell_type": "code",
      "source": [
        "df.printSchema()"
      ],
      "metadata": {
        "colab": {
          "base_uri": "https://localhost:8080/"
        },
        "id": "rFJmGUd_P8Ie",
        "outputId": "4a8ef02b-041c-46c4-bba4-4fec8f604335"
      },
      "execution_count": 105,
      "outputs": [
        {
          "output_type": "stream",
          "name": "stdout",
          "text": [
            "root\n",
            " |-- gender: string (nullable = true)\n",
            " |-- age: double (nullable = true)\n",
            " |-- hypertension: integer (nullable = true)\n",
            " |-- heart_disease: integer (nullable = true)\n",
            " |-- ever_married: string (nullable = true)\n",
            " |-- work_type: string (nullable = true)\n",
            " |-- Residence_type: string (nullable = true)\n",
            " |-- avg_glucose_level: double (nullable = true)\n",
            " |-- bmi: double (nullable = true)\n",
            " |-- smoking_status: string (nullable = true)\n",
            " |-- stroke: integer (nullable = true)\n",
            "\n"
          ]
        }
      ]
    },
    {
      "cell_type": "code",
      "source": [
        "df.describe().show()"
      ],
      "metadata": {
        "colab": {
          "base_uri": "https://localhost:8080/"
        },
        "id": "n4j6IypyQNdA",
        "outputId": "aa69c954-2ba6-4419-dd85-30f4a32d3acf"
      },
      "execution_count": 106,
      "outputs": [
        {
          "output_type": "stream",
          "name": "stdout",
          "text": [
            "+-------+------+-----------------+-------------------+--------------------+------------+---------+--------------+------------------+------------------+--------------+--------------------+\n",
            "|summary|gender|              age|       hypertension|       heart_disease|ever_married|work_type|Residence_type| avg_glucose_level|               bmi|smoking_status|              stroke|\n",
            "+-------+------+-----------------+-------------------+--------------------+------------+---------+--------------+------------------+------------------+--------------+--------------------+\n",
            "|  count|  4981|             4981|               4981|                4981|        4981|     4981|          4981|              4981|              4981|          4981|                4981|\n",
            "|   mean|  null| 43.4198594659707|0.09616542862878939|0.055209797229471995|        null|     null|          null|105.94356153382824|28.498173057619002|          null|0.049789198956032926|\n",
            "| stddev|  null|22.66275507369848|0.29484757470019735|  0.2284122364309422|        null|     null|          null|45.075372808429975| 6.790463626292752|          null| 0.21753099703366993|\n",
            "|    min|Female|             0.08|                  0|                   0|          No| Govt_job|         Rural|             55.12|              14.0|       Unknown|                   0|\n",
            "|    max|  Male|             82.0|                  1|                   1|         Yes| children|         Urban|            271.74|              48.9|        smokes|                   1|\n",
            "+-------+------+-----------------+-------------------+--------------------+------------+---------+--------------+------------------+------------------+--------------+--------------------+\n",
            "\n"
          ]
        }
      ]
    },
    {
      "cell_type": "code",
      "source": [
        "df.groupBy('stroke').count().show()"
      ],
      "metadata": {
        "colab": {
          "base_uri": "https://localhost:8080/"
        },
        "id": "wSixGiE6QW2n",
        "outputId": "a9ce2033-9f0f-48fb-cd48-26df61cbb07b"
      },
      "execution_count": 107,
      "outputs": [
        {
          "output_type": "stream",
          "name": "stdout",
          "text": [
            "+------+-----+\n",
            "|stroke|count|\n",
            "+------+-----+\n",
            "|     1|  248|\n",
            "|     0| 4733|\n",
            "+------+-----+\n",
            "\n"
          ]
        }
      ]
    },
    {
      "cell_type": "code",
      "source": [
        "fig = plt.figure(figsize=(25,15)) ## Plot Size \n",
        "st = fig.suptitle(\"Distribution of Features\", fontsize=50,\n",
        "                  verticalalignment='center') # Plot Main Title \n",
        "\n",
        "for col,num in zip(df.toPandas().describe().columns, range(1,11)):\n",
        "    ax = fig.add_subplot(3,4,num)\n",
        "    ax.hist(df.toPandas()[col])\n",
        "     \n",
        "    plt.grid(False)\n",
        "    plt.xticks(rotation=45,fontsize=10)\n",
        "    plt.yticks(fontsize=10)\n",
        "    plt.title(col.upper(),fontsize=20)\n",
        "plt.tight_layout()\n",
        "st.set_y(0.95)\n",
        "fig.subplots_adjust(top=0.85,hspace = 0.4)\n",
        "plt.show()"
      ],
      "metadata": {
        "colab": {
          "base_uri": "https://localhost:8080/",
          "height": 533
        },
        "id": "0dM9XEQRQmie",
        "outputId": "00b5975b-d72e-438e-ff6b-17e37cc8b8cd"
      },
      "execution_count": 108,
      "outputs": [
        {
          "output_type": "display_data",
          "data": {
            "text/plain": [
              "<Figure size 1800x1080 with 6 Axes>"
            ],
            "image/png": "[encoded data removed]"
          },
          "metadata": {
            "needs_background": "light"
          }
        }
      ]
    },
    {
      "cell_type": "code",
      "source": [
        "df.corr('bmi','stroke')"
      ],
      "metadata": {
        "colab": {
          "base_uri": "https://localhost:8080/"
        },
        "id": "GSXCoh490iii",
        "outputId": "5761273b-0dc2-45f9-8448-2920452c4643"
      },
      "execution_count": 109,
      "outputs": [
        {
          "output_type": "execute_result",
          "data": {
            "text/plain": [
              "0.05692566277908676"
            ]
          },
          "metadata": {},
          "execution_count": 109
        }
      ]
    },
    {
      "cell_type": "code",
      "source": [
        "df.corr('hypertension','stroke')"
      ],
      "metadata": {
        "colab": {
          "base_uri": "https://localhost:8080/"
        },
        "id": "0Lzn1SpH0yFy",
        "outputId": "5ab2f5f1-71da-48ef-fac7-bf9c5cf859f5"
      },
      "execution_count": 110,
      "outputs": [
        {
          "output_type": "execute_result",
          "data": {
            "text/plain": [
              "0.13196524198200293"
            ]
          },
          "metadata": {},
          "execution_count": 110
        }
      ]
    },
    {
      "cell_type": "code",
      "source": [
        "df.corr('heart_disease','stroke')"
      ],
      "metadata": {
        "colab": {
          "base_uri": "https://localhost:8080/"
        },
        "id": "Nm6EUWun1DnL",
        "outputId": "3530c82d-9e39-4cee-a0d0-74362b355332"
      },
      "execution_count": 111,
      "outputs": [
        {
          "output_type": "execute_result",
          "data": {
            "text/plain": [
              "0.13461030532204826"
            ]
          },
          "metadata": {},
          "execution_count": 111
        }
      ]
    },
    {
      "cell_type": "code",
      "source": [
        "df.corr('age','stroke')"
      ],
      "metadata": {
        "colab": {
          "base_uri": "https://localhost:8080/"
        },
        "id": "U1wGojTa1JOD",
        "outputId": "c6c86178-6900-4f16-8124-f46e57592b58"
      },
      "execution_count": 112,
      "outputs": [
        {
          "output_type": "execute_result",
          "data": {
            "text/plain": [
              "0.2464778740312734"
            ]
          },
          "metadata": {},
          "execution_count": 112
        }
      ]
    },
    {
      "cell_type": "code",
      "source": [
        "df.corr('avg_glucose_level','stroke')"
      ],
      "metadata": {
        "colab": {
          "base_uri": "https://localhost:8080/"
        },
        "id": "RtvpVWGq1JdO",
        "outputId": "b5938687-3886-44e5-b21f-12d5c3eae968"
      },
      "execution_count": 113,
      "outputs": [
        {
          "output_type": "execute_result",
          "data": {
            "text/plain": [
              "0.1332273266331388"
            ]
          },
          "metadata": {},
          "execution_count": 113
        }
      ]
    },
    {
      "cell_type": "markdown",
      "source": [
        "## Using Spark SQL"
      ],
      "metadata": {
        "id": "BHnYfU5Zjb8E"
      }
    },
    {
      "cell_type": "code",
      "source": [
        "df.columns"
      ],
      "metadata": {
        "colab": {
          "base_uri": "https://localhost:8080/"
        },
        "id": "kgnngqn_joD6",
        "outputId": "04d7c392-fd60-4f41-915f-7a187a5d8cb6"
      },
      "execution_count": 114,
      "outputs": [
        {
          "output_type": "execute_result",
          "data": {
            "text/plain": [
              "['gender',\n",
              " 'age',\n",
              " 'hypertension',\n",
              " 'heart_disease',\n",
              " 'ever_married',\n",
              " 'work_type',\n",
              " 'Residence_type',\n",
              " 'avg_glucose_level',\n",
              " 'bmi',\n",
              " 'smoking_status',\n",
              " 'stroke']"
            ]
          },
          "metadata": {},
          "execution_count": 114
        }
      ]
    },
    {
      "cell_type": "code",
      "source": [
        "# create DataFrame as a temporary view\n",
        "df.createOrReplaceTempView('brain_stroke_T')"
      ],
      "metadata": {
        "id": "BYmUYkv5jVwb"
      },
      "execution_count": 115,
      "outputs": []
    },
    {
      "cell_type": "code",
      "source": [
        "#group by gender \n",
        "spark.sql(\\\n",
        "          \"SELECT \\\n",
        "           gender, count(gender) as count_gender, \\\n",
        "           count(gender)*100/sum(count(gender)) over() as percent  \\\n",
        "           FROM brain_stroke_T GROUP BY gender\" \\\n",
        "           ).show()"
      ],
      "metadata": {
        "colab": {
          "base_uri": "https://localhost:8080/"
        },
        "id": "ijhBPPS0jkZc",
        "outputId": "46a56df8-0ac8-46ea-cd26-e065c58eaf0e"
      },
      "execution_count": 116,
      "outputs": [
        {
          "output_type": "stream",
          "name": "stdout",
          "text": [
            "+------+------------+----------------+\n",
            "|gender|count_gender|         percent|\n",
            "+------+------------+----------------+\n",
            "|Female|        2907|58.3617747440273|\n",
            "|  Male|        2074|41.6382252559727|\n",
            "+------+------------+----------------+\n",
            "\n"
          ]
        }
      ]
    },
    {
      "cell_type": "code",
      "source": [
        "#group by gender having brain stroke \n",
        "spark.sql(\\\n",
        "          \"SELECT gender, count(gender), \\\n",
        "          round((COUNT(gender) * 100.0) /(SELECT count(gender) FROM brain_stroke_T ),2) as percentage \\\n",
        "          FROM brain_stroke_T WHERE stroke = '1'  GROUP BY gender\"\\\n",
        "          ).show()"
      ],
      "metadata": {
        "colab": {
          "base_uri": "https://localhost:8080/"
        },
        "id": "8scQqZutjzna",
        "outputId": "5aa336fa-24aa-4815-dbb6-5041844f8f0b"
      },
      "execution_count": 117,
      "outputs": [
        {
          "output_type": "stream",
          "name": "stdout",
          "text": [
            "+------+-------------+----------+\n",
            "|gender|count(gender)|percentage|\n",
            "+------+-------------+----------+\n",
            "|Female|          140|      2.81|\n",
            "|  Male|          108|      2.17|\n",
            "+------+-------------+----------+\n",
            "\n"
          ]
        }
      ]
    },
    {
      "cell_type": "code",
      "source": [
        "#group by gender having heart disease \n",
        "spark.sql(\\\n",
        "          \"SELECT gender, count(gender), \\\n",
        "          round((COUNT(gender) * 100.0) /(SELECT count(gender) FROM brain_stroke_T ),2) as percentage \\\n",
        "          FROM brain_stroke_T WHERE heart_disease = '1'  GROUP BY gender\"\\\n",
        "          ).show()"
      ],
      "metadata": {
        "colab": {
          "base_uri": "https://localhost:8080/"
        },
        "id": "fNSmtKmAkSvo",
        "outputId": "5684dcae-1bd9-45ef-bb64-b8244d3aefc9"
      },
      "execution_count": 118,
      "outputs": [
        {
          "output_type": "stream",
          "name": "stdout",
          "text": [
            "+------+-------------+----------+\n",
            "|gender|count(gender)|percentage|\n",
            "+------+-------------+----------+\n",
            "|Female|          112|      2.25|\n",
            "|  Male|          163|      3.27|\n",
            "+------+-------------+----------+\n",
            "\n"
          ]
        }
      ]
    },
    {
      "cell_type": "code",
      "source": [
        "#group by gender having hypertension \n",
        "spark.sql(\\\n",
        "          \"SELECT gender, count(gender), \\\n",
        "          round((COUNT(gender) * 100.0) /(SELECT count(gender) FROM brain_stroke_T ),2) as percentage \\\n",
        "          FROM brain_stroke_T WHERE hypertension = '1'  GROUP BY gender\"\\\n",
        "          ).show()"
      ],
      "metadata": {
        "colab": {
          "base_uri": "https://localhost:8080/"
        },
        "id": "9sFWj-e5kc3H",
        "outputId": "315d21c1-e267-4865-8d68-d55b9fc98e19"
      },
      "execution_count": 119,
      "outputs": [
        {
          "output_type": "stream",
          "name": "stdout",
          "text": [
            "+------+-------------+----------+\n",
            "|gender|count(gender)|percentage|\n",
            "+------+-------------+----------+\n",
            "|Female|          264|      5.30|\n",
            "|  Male|          215|      4.32|\n",
            "+------+-------------+----------+\n",
            "\n"
          ]
        }
      ]
    },
    {
      "cell_type": "code",
      "source": [
        "#count of different types of smoker\n",
        "df.groupBy('smoking_status').count().show()"
      ],
      "metadata": {
        "colab": {
          "base_uri": "https://localhost:8080/"
        },
        "id": "ukah06H8ko6r",
        "outputId": "f0411589-3672-47a0-ae40-b51aae0f2311"
      },
      "execution_count": 120,
      "outputs": [
        {
          "output_type": "stream",
          "name": "stdout",
          "text": [
            "+---------------+-----+\n",
            "| smoking_status|count|\n",
            "+---------------+-----+\n",
            "|         smokes|  776|\n",
            "|        Unknown| 1500|\n",
            "|   never smoked| 1838|\n",
            "|formerly smoked|  867|\n",
            "+---------------+-----+\n",
            "\n"
          ]
        }
      ]
    },
    {
      "cell_type": "code",
      "source": [
        "#group by smoking_status having hypertension \n",
        "spark.sql(\\\n",
        "          \"SELECT smoking_status, count(smoking_status) as count, \\\n",
        "          round((COUNT(smoking_status) * 100.0) /(SELECT count(smoking_status) FROM brain_stroke_T ),2) as percentage \\\n",
        "          FROM brain_stroke_T   GROUP BY smoking_status\"\\\n",
        "          ).show()"
      ],
      "metadata": {
        "colab": {
          "base_uri": "https://localhost:8080/"
        },
        "id": "EVAHu2qOmkXo",
        "outputId": "9a1a51cd-8ee3-4a46-e73f-a22b414364ef"
      },
      "execution_count": 121,
      "outputs": [
        {
          "output_type": "stream",
          "name": "stdout",
          "text": [
            "+---------------+-----+----------+\n",
            "| smoking_status|count|percentage|\n",
            "+---------------+-----+----------+\n",
            "|         smokes|  776|     15.58|\n",
            "|        Unknown| 1500|     30.11|\n",
            "|   never smoked| 1838|     36.90|\n",
            "|formerly smoked|  867|     17.41|\n",
            "+---------------+-----+----------+\n",
            "\n"
          ]
        }
      ]
    },
    {
      "cell_type": "code",
      "source": [
        "#Age vs stroke \n",
        "spark.sql(\"SELECT age, count(age) as age_count FROM brain_stroke_T WHERE stroke == 1 GROUP BY age ORDER BY age_count DESC\").show()"
      ],
      "metadata": {
        "colab": {
          "base_uri": "https://localhost:8080/"
        },
        "id": "co0at8plm5tj",
        "outputId": "9297e22c-54dc-4b6d-a84e-220b8d7547c4"
      },
      "execution_count": 122,
      "outputs": [
        {
          "output_type": "stream",
          "name": "stdout",
          "text": [
            "+----+---------+\n",
            "| age|age_count|\n",
            "+----+---------+\n",
            "|78.0|       21|\n",
            "|79.0|       17|\n",
            "|80.0|       17|\n",
            "|81.0|       14|\n",
            "|57.0|       11|\n",
            "|76.0|       10|\n",
            "|63.0|        9|\n",
            "|68.0|        9|\n",
            "|74.0|        9|\n",
            "|82.0|        9|\n",
            "|59.0|        8|\n",
            "|77.0|        8|\n",
            "|71.0|        7|\n",
            "|58.0|        7|\n",
            "|70.0|        6|\n",
            "|75.0|        6|\n",
            "|69.0|        6|\n",
            "|72.0|        6|\n",
            "|54.0|        6|\n",
            "|61.0|        6|\n",
            "+----+---------+\n",
            "only showing top 20 rows\n",
            "\n"
          ]
        }
      ]
    },
    {
      "cell_type": "code",
      "source": [
        "#count of brain stroke patients over age 50 \n",
        "df.filter((df['stroke'] == 1) & (df['age'] > '50')).count()\n"
      ],
      "metadata": {
        "colab": {
          "base_uri": "https://localhost:8080/"
        },
        "id": "fbFeaM-wnCih",
        "outputId": "d6374e09-ac7b-426b-be37-14e84cd14189"
      },
      "execution_count": 123,
      "outputs": [
        {
          "output_type": "execute_result",
          "data": {
            "text/plain": [
              "226"
            ]
          },
          "metadata": {},
          "execution_count": 123
        }
      ]
    },
    {
      "cell_type": "markdown",
      "source": [
        "## Data Preprocessing"
      ],
      "metadata": {
        "id": "hUr9GBPKnkxz"
      }
    },
    {
      "cell_type": "code",
      "source": [
        "#checking null values\n",
        "df.toPandas().isnull().sum()"
      ],
      "metadata": {
        "colab": {
          "base_uri": "https://localhost:8080/"
        },
        "id": "P6BxApK4nlTK",
        "outputId": "2b866af2-c4c3-417a-d3a5-d6ae835a850a"
      },
      "execution_count": 124,
      "outputs": [
        {
          "output_type": "execute_result",
          "data": {
            "text/plain": [
              "gender               0\n",
              "age                  0\n",
              "hypertension         0\n",
              "heart_disease        0\n",
              "ever_married         0\n",
              "work_type            0\n",
              "Residence_type       0\n",
              "avg_glucose_level    0\n",
              "bmi                  0\n",
              "smoking_status       0\n",
              "stroke               0\n",
              "dtype: int64"
            ]
          },
          "metadata": {},
          "execution_count": 124
        }
      ]
    },
    {
      "cell_type": "code",
      "source": [
        "df.dtypes"
      ],
      "metadata": {
        "colab": {
          "base_uri": "https://localhost:8080/"
        },
        "id": "KAb2nFpHnpTa",
        "outputId": "13504d53-4e5e-42b9-cccb-ec6f75b93a56"
      },
      "execution_count": 125,
      "outputs": [
        {
          "output_type": "execute_result",
          "data": {
            "text/plain": [
              "[('gender', 'string'),\n",
              " ('age', 'double'),\n",
              " ('hypertension', 'int'),\n",
              " ('heart_disease', 'int'),\n",
              " ('ever_married', 'string'),\n",
              " ('work_type', 'string'),\n",
              " ('Residence_type', 'string'),\n",
              " ('avg_glucose_level', 'double'),\n",
              " ('bmi', 'double'),\n",
              " ('smoking_status', 'string'),\n",
              " ('stroke', 'int')]"
            ]
          },
          "metadata": {},
          "execution_count": 125
        }
      ]
    },
    {
      "cell_type": "code",
      "source": [
        "df.show()"
      ],
      "metadata": {
        "colab": {
          "base_uri": "https://localhost:8080/"
        },
        "id": "ehtKWB4Pn1tD",
        "outputId": "156bfafa-21e9-4232-aeb4-87b0344ea1d8"
      },
      "execution_count": 126,
      "outputs": [
        {
          "output_type": "stream",
          "name": "stdout",
          "text": [
            "+------+----+------------+-------------+------------+-------------+--------------+-----------------+----+---------------+------+\n",
            "|gender| age|hypertension|heart_disease|ever_married|    work_type|Residence_type|avg_glucose_level| bmi| smoking_status|stroke|\n",
            "+------+----+------------+-------------+------------+-------------+--------------+-----------------+----+---------------+------+\n",
            "|  Male|67.0|           0|            1|         Yes|      Private|         Urban|           228.69|36.6|formerly smoked|     1|\n",
            "|  Male|80.0|           0|            1|         Yes|      Private|         Rural|           105.92|32.5|   never smoked|     1|\n",
            "|Female|49.0|           0|            0|         Yes|      Private|         Urban|           171.23|34.4|         smokes|     1|\n",
            "|Female|79.0|           1|            0|         Yes|Self-employed|         Rural|           174.12|24.0|   never smoked|     1|\n",
            "|  Male|81.0|           0|            0|         Yes|      Private|         Urban|           186.21|29.0|formerly smoked|     1|\n",
            "|  Male|74.0|           1|            1|         Yes|      Private|         Rural|            70.09|27.4|   never smoked|     1|\n",
            "|Female|69.0|           0|            0|          No|      Private|         Urban|            94.39|22.8|   never smoked|     1|\n",
            "|Female|78.0|           0|            0|         Yes|      Private|         Urban|            58.57|24.2|        Unknown|     1|\n",
            "|Female|81.0|           1|            0|         Yes|      Private|         Rural|            80.43|29.7|   never smoked|     1|\n",
            "|Female|61.0|           0|            1|         Yes|     Govt_job|         Rural|           120.46|36.8|         smokes|     1|\n",
            "|Female|54.0|           0|            0|         Yes|      Private|         Urban|           104.51|27.3|         smokes|     1|\n",
            "|Female|79.0|           0|            1|         Yes|      Private|         Urban|           214.09|28.2|   never smoked|     1|\n",
            "|Female|50.0|           1|            0|         Yes|Self-employed|         Rural|           167.41|30.9|   never smoked|     1|\n",
            "|  Male|64.0|           0|            1|         Yes|      Private|         Urban|           191.61|37.5|         smokes|     1|\n",
            "|  Male|75.0|           1|            0|         Yes|      Private|         Urban|           221.29|25.8|         smokes|     1|\n",
            "|Female|60.0|           0|            0|          No|      Private|         Urban|            89.22|37.8|   never smoked|     1|\n",
            "|Female|71.0|           0|            0|         Yes|     Govt_job|         Rural|           193.94|22.4|         smokes|     1|\n",
            "|Female|52.0|           1|            0|         Yes|Self-employed|         Urban|           233.29|48.9|   never smoked|     1|\n",
            "|Female|79.0|           0|            0|         Yes|Self-employed|         Urban|            228.7|26.6|   never smoked|     1|\n",
            "|  Male|82.0|           0|            1|         Yes|      Private|         Rural|            208.3|32.5|        Unknown|     1|\n",
            "+------+----+------------+-------------+------------+-------------+--------------+-----------------+----+---------------+------+\n",
            "only showing top 20 rows\n",
            "\n"
          ]
        }
      ]
    },
    {
      "cell_type": "markdown",
      "source": [
        "# Serial Data Conversions"
      ],
      "metadata": {
        "id": "1saRMqq-n-wc"
      }
    },
    {
      "cell_type": "markdown",
      "source": [
        "## String Indexer"
      ],
      "metadata": {
        "id": "MM-7DcV4oEqq"
      }
    },
    {
      "cell_type": "code",
      "source": [
        "genderIndexer = StringIndexer(inputCol=\"gender\", outputCol=\"genderIndex\")\n",
        "ever_marriedIndexer = StringIndexer(inputCol=\"ever_married\", outputCol=\"ever_marriedIndex\")\n",
        "work_typeIndexer = StringIndexer(inputCol=\"work_type\", outputCol=\"work_typeIndex\")\n",
        "Residence_typeIndexer = StringIndexer(inputCol=\"Residence_type\", outputCol=\"Residence_typeIndex\")\n",
        "smoking_statusIndexer = StringIndexer(inputCol=\"smoking_status\", outputCol=\"smoking_statusIndex\")"
      ],
      "metadata": {
        "id": "dxWaKE-JoAX3"
      },
      "execution_count": 127,
      "outputs": []
    },
    {
      "cell_type": "code",
      "source": [
        "genderIndexer.fit(df).transform(df).show(5)"
      ],
      "metadata": {
        "colab": {
          "base_uri": "https://localhost:8080/"
        },
        "id": "FaOnIWCxp6Rb",
        "outputId": "9d3674ba-7d11-4902-b54e-8190b9e65bef"
      },
      "execution_count": 128,
      "outputs": [
        {
          "output_type": "stream",
          "name": "stdout",
          "text": [
            "+------+----+------------+-------------+------------+-------------+--------------+-----------------+----+---------------+------+-----------+\n",
            "|gender| age|hypertension|heart_disease|ever_married|    work_type|Residence_type|avg_glucose_level| bmi| smoking_status|stroke|genderIndex|\n",
            "+------+----+------------+-------------+------------+-------------+--------------+-----------------+----+---------------+------+-----------+\n",
            "|  Male|67.0|           0|            1|         Yes|      Private|         Urban|           228.69|36.6|formerly smoked|     1|        1.0|\n",
            "|  Male|80.0|           0|            1|         Yes|      Private|         Rural|           105.92|32.5|   never smoked|     1|        1.0|\n",
            "|Female|49.0|           0|            0|         Yes|      Private|         Urban|           171.23|34.4|         smokes|     1|        0.0|\n",
            "|Female|79.0|           1|            0|         Yes|Self-employed|         Rural|           174.12|24.0|   never smoked|     1|        0.0|\n",
            "|  Male|81.0|           0|            0|         Yes|      Private|         Urban|           186.21|29.0|formerly smoked|     1|        1.0|\n",
            "+------+----+------------+-------------+------------+-------------+--------------+-----------------+----+---------------+------+-----------+\n",
            "only showing top 5 rows\n",
            "\n"
          ]
        }
      ]
    },
    {
      "cell_type": "code",
      "source": [
        "ever_marriedIndexer.fit(df).transform(df).show(5)"
      ],
      "metadata": {
        "colab": {
          "base_uri": "https://localhost:8080/"
        },
        "id": "Hypvu1iSqA2B",
        "outputId": "a8090cf3-807b-48cc-d819-b6d480a75b15"
      },
      "execution_count": 129,
      "outputs": [
        {
          "output_type": "stream",
          "name": "stdout",
          "text": [
            "+------+----+------------+-------------+------------+-------------+--------------+-----------------+----+---------------+------+-----------------+\n",
            "|gender| age|hypertension|heart_disease|ever_married|    work_type|Residence_type|avg_glucose_level| bmi| smoking_status|stroke|ever_marriedIndex|\n",
            "+------+----+------------+-------------+------------+-------------+--------------+-----------------+----+---------------+------+-----------------+\n",
            "|  Male|67.0|           0|            1|         Yes|      Private|         Urban|           228.69|36.6|formerly smoked|     1|              0.0|\n",
            "|  Male|80.0|           0|            1|         Yes|      Private|         Rural|           105.92|32.5|   never smoked|     1|              0.0|\n",
            "|Female|49.0|           0|            0|         Yes|      Private|         Urban|           171.23|34.4|         smokes|     1|              0.0|\n",
            "|Female|79.0|           1|            0|         Yes|Self-employed|         Rural|           174.12|24.0|   never smoked|     1|              0.0|\n",
            "|  Male|81.0|           0|            0|         Yes|      Private|         Urban|           186.21|29.0|formerly smoked|     1|              0.0|\n",
            "+------+----+------------+-------------+------------+-------------+--------------+-----------------+----+---------------+------+-----------------+\n",
            "only showing top 5 rows\n",
            "\n"
          ]
        }
      ]
    },
    {
      "cell_type": "code",
      "source": [
        "work_typeIndexer.fit(df).transform(df).show(5)"
      ],
      "metadata": {
        "colab": {
          "base_uri": "https://localhost:8080/"
        },
        "id": "kTXOphTDqA4x",
        "outputId": "aadc89d7-332d-4052-dd70-6267d8775e24"
      },
      "execution_count": 130,
      "outputs": [
        {
          "output_type": "stream",
          "name": "stdout",
          "text": [
            "+------+----+------------+-------------+------------+-------------+--------------+-----------------+----+---------------+------+--------------+\n",
            "|gender| age|hypertension|heart_disease|ever_married|    work_type|Residence_type|avg_glucose_level| bmi| smoking_status|stroke|work_typeIndex|\n",
            "+------+----+------------+-------------+------------+-------------+--------------+-----------------+----+---------------+------+--------------+\n",
            "|  Male|67.0|           0|            1|         Yes|      Private|         Urban|           228.69|36.6|formerly smoked|     1|           0.0|\n",
            "|  Male|80.0|           0|            1|         Yes|      Private|         Rural|           105.92|32.5|   never smoked|     1|           0.0|\n",
            "|Female|49.0|           0|            0|         Yes|      Private|         Urban|           171.23|34.4|         smokes|     1|           0.0|\n",
            "|Female|79.0|           1|            0|         Yes|Self-employed|         Rural|           174.12|24.0|   never smoked|     1|           1.0|\n",
            "|  Male|81.0|           0|            0|         Yes|      Private|         Urban|           186.21|29.0|formerly smoked|     1|           0.0|\n",
            "+------+----+------------+-------------+------------+-------------+--------------+-----------------+----+---------------+------+--------------+\n",
            "only showing top 5 rows\n",
            "\n"
          ]
        }
      ]
    },
    {
      "cell_type": "code",
      "source": [
        "Residence_typeIndexer.fit(df).transform(df).show(5)"
      ],
      "metadata": {
        "colab": {
          "base_uri": "https://localhost:8080/"
        },
        "id": "GGIo6A50qA7d",
        "outputId": "e8531212-66fa-462f-8857-b540f00ed597"
      },
      "execution_count": 131,
      "outputs": [
        {
          "output_type": "stream",
          "name": "stdout",
          "text": [
            "+------+----+------------+-------------+------------+-------------+--------------+-----------------+----+---------------+------+-------------------+\n",
            "|gender| age|hypertension|heart_disease|ever_married|    work_type|Residence_type|avg_glucose_level| bmi| smoking_status|stroke|Residence_typeIndex|\n",
            "+------+----+------------+-------------+------------+-------------+--------------+-----------------+----+---------------+------+-------------------+\n",
            "|  Male|67.0|           0|            1|         Yes|      Private|         Urban|           228.69|36.6|formerly smoked|     1|                0.0|\n",
            "|  Male|80.0|           0|            1|         Yes|      Private|         Rural|           105.92|32.5|   never smoked|     1|                1.0|\n",
            "|Female|49.0|           0|            0|         Yes|      Private|         Urban|           171.23|34.4|         smokes|     1|                0.0|\n",
            "|Female|79.0|           1|            0|         Yes|Self-employed|         Rural|           174.12|24.0|   never smoked|     1|                1.0|\n",
            "|  Male|81.0|           0|            0|         Yes|      Private|         Urban|           186.21|29.0|formerly smoked|     1|                0.0|\n",
            "+------+----+------------+-------------+------------+-------------+--------------+-----------------+----+---------------+------+-------------------+\n",
            "only showing top 5 rows\n",
            "\n"
          ]
        }
      ]
    },
    {
      "cell_type": "code",
      "source": [
        "smoking_statusIndexer.fit(df).transform(df).show(5)"
      ],
      "metadata": {
        "colab": {
          "base_uri": "https://localhost:8080/"
        },
        "id": "rfgvW_wcqA-i",
        "outputId": "31cdd70d-af63-43cf-a229-63fbeacc52f4"
      },
      "execution_count": 132,
      "outputs": [
        {
          "output_type": "stream",
          "name": "stdout",
          "text": [
            "+------+----+------------+-------------+------------+-------------+--------------+-----------------+----+---------------+------+-------------------+\n",
            "|gender| age|hypertension|heart_disease|ever_married|    work_type|Residence_type|avg_glucose_level| bmi| smoking_status|stroke|smoking_statusIndex|\n",
            "+------+----+------------+-------------+------------+-------------+--------------+-----------------+----+---------------+------+-------------------+\n",
            "|  Male|67.0|           0|            1|         Yes|      Private|         Urban|           228.69|36.6|formerly smoked|     1|                2.0|\n",
            "|  Male|80.0|           0|            1|         Yes|      Private|         Rural|           105.92|32.5|   never smoked|     1|                0.0|\n",
            "|Female|49.0|           0|            0|         Yes|      Private|         Urban|           171.23|34.4|         smokes|     1|                3.0|\n",
            "|Female|79.0|           1|            0|         Yes|Self-employed|         Rural|           174.12|24.0|   never smoked|     1|                0.0|\n",
            "|  Male|81.0|           0|            0|         Yes|      Private|         Urban|           186.21|29.0|formerly smoked|     1|                2.0|\n",
            "+------+----+------------+-------------+------------+-------------+--------------+-----------------+----+---------------+------+-------------------+\n",
            "only showing top 5 rows\n",
            "\n"
          ]
        }
      ]
    },
    {
      "cell_type": "markdown",
      "source": [
        "##One Hot Encoder"
      ],
      "metadata": {
        "id": "AmKSuLWYqdL5"
      }
    },
    {
      "cell_type": "code",
      "source": [
        "OHE_gender = OneHotEncoder(inputCols=[\"genderIndex\"], outputCols=[\"genderVec\"])\n",
        "OHE_ever_married = OneHotEncoder(inputCols=[\"ever_marriedIndex\"], outputCols=[\"ever_marriedVec\"])\n",
        "OHE_work_type = OneHotEncoder(inputCols=[\"work_typeIndex\"], outputCols=[\"work_typeVec\"])\n",
        "OHE_Residence_type = OneHotEncoder(inputCols=[\"Residence_typeIndex\"], outputCols=[\"Residence_typeVec\"])\n",
        "OHE_smoking_status = OneHotEncoder(inputCols=[\"smoking_statusIndex\"], outputCols=[\"smoking_statusVec\"])"
      ],
      "metadata": {
        "id": "gfIAFqBEqBAa"
      },
      "execution_count": 133,
      "outputs": []
    },
    {
      "cell_type": "code",
      "source": [
        "OHE_gender.fit(genderIndexer.fit(df).transform(df)).transform(genderIndexer.fit(df).transform(df)).show(3)"
      ],
      "metadata": {
        "colab": {
          "base_uri": "https://localhost:8080/"
        },
        "id": "R1QVS4uCrfb5",
        "outputId": "bf908a64-65df-4fc8-a4d8-0ac3698eb004"
      },
      "execution_count": 134,
      "outputs": [
        {
          "output_type": "stream",
          "name": "stdout",
          "text": [
            "+------+----+------------+-------------+------------+---------+--------------+-----------------+----+---------------+------+-----------+-------------+\n",
            "|gender| age|hypertension|heart_disease|ever_married|work_type|Residence_type|avg_glucose_level| bmi| smoking_status|stroke|genderIndex|    genderVec|\n",
            "+------+----+------------+-------------+------------+---------+--------------+-----------------+----+---------------+------+-----------+-------------+\n",
            "|  Male|67.0|           0|            1|         Yes|  Private|         Urban|           228.69|36.6|formerly smoked|     1|        1.0|    (1,[],[])|\n",
            "|  Male|80.0|           0|            1|         Yes|  Private|         Rural|           105.92|32.5|   never smoked|     1|        1.0|    (1,[],[])|\n",
            "|Female|49.0|           0|            0|         Yes|  Private|         Urban|           171.23|34.4|         smokes|     1|        0.0|(1,[0],[1.0])|\n",
            "+------+----+------------+-------------+------------+---------+--------------+-----------------+----+---------------+------+-----------+-------------+\n",
            "only showing top 3 rows\n",
            "\n"
          ]
        }
      ]
    },
    {
      "cell_type": "code",
      "source": [
        "OHE_ever_married.fit(ever_marriedIndexer.fit(df).transform(df)).transform(ever_marriedIndexer.fit(df).transform(df)).show(3)"
      ],
      "metadata": {
        "colab": {
          "base_uri": "https://localhost:8080/"
        },
        "id": "TnjVyiknr9ni",
        "outputId": "0427ee8f-2332-4f4b-f171-40032fab4fc1"
      },
      "execution_count": 135,
      "outputs": [
        {
          "output_type": "stream",
          "name": "stdout",
          "text": [
            "+------+----+------------+-------------+------------+---------+--------------+-----------------+----+---------------+------+-----------------+---------------+\n",
            "|gender| age|hypertension|heart_disease|ever_married|work_type|Residence_type|avg_glucose_level| bmi| smoking_status|stroke|ever_marriedIndex|ever_marriedVec|\n",
            "+------+----+------------+-------------+------------+---------+--------------+-----------------+----+---------------+------+-----------------+---------------+\n",
            "|  Male|67.0|           0|            1|         Yes|  Private|         Urban|           228.69|36.6|formerly smoked|     1|              0.0|  (1,[0],[1.0])|\n",
            "|  Male|80.0|           0|            1|         Yes|  Private|         Rural|           105.92|32.5|   never smoked|     1|              0.0|  (1,[0],[1.0])|\n",
            "|Female|49.0|           0|            0|         Yes|  Private|         Urban|           171.23|34.4|         smokes|     1|              0.0|  (1,[0],[1.0])|\n",
            "+------+----+------------+-------------+------------+---------+--------------+-----------------+----+---------------+------+-----------------+---------------+\n",
            "only showing top 3 rows\n",
            "\n"
          ]
        }
      ]
    },
    {
      "cell_type": "code",
      "source": [
        "OHE_work_type.fit(work_typeIndexer.fit(df).transform(df)).transform(work_typeIndexer.fit(df).transform(df)).show(3)"
      ],
      "metadata": {
        "colab": {
          "base_uri": "https://localhost:8080/"
        },
        "id": "WPiag58tr9zL",
        "outputId": "9548a5bb-3b6d-450f-d21b-676dd43efb68"
      },
      "execution_count": 136,
      "outputs": [
        {
          "output_type": "stream",
          "name": "stdout",
          "text": [
            "+------+----+------------+-------------+------------+---------+--------------+-----------------+----+---------------+------+--------------+-------------+\n",
            "|gender| age|hypertension|heart_disease|ever_married|work_type|Residence_type|avg_glucose_level| bmi| smoking_status|stroke|work_typeIndex| work_typeVec|\n",
            "+------+----+------------+-------------+------------+---------+--------------+-----------------+----+---------------+------+--------------+-------------+\n",
            "|  Male|67.0|           0|            1|         Yes|  Private|         Urban|           228.69|36.6|formerly smoked|     1|           0.0|(3,[0],[1.0])|\n",
            "|  Male|80.0|           0|            1|         Yes|  Private|         Rural|           105.92|32.5|   never smoked|     1|           0.0|(3,[0],[1.0])|\n",
            "|Female|49.0|           0|            0|         Yes|  Private|         Urban|           171.23|34.4|         smokes|     1|           0.0|(3,[0],[1.0])|\n",
            "+------+----+------------+-------------+------------+---------+--------------+-----------------+----+---------------+------+--------------+-------------+\n",
            "only showing top 3 rows\n",
            "\n"
          ]
        }
      ]
    },
    {
      "cell_type": "code",
      "source": [
        "OHE_Residence_type.fit(Residence_typeIndexer.fit(df).transform(df)).transform(Residence_typeIndexer.fit(df).transform(df)).show(3)"
      ],
      "metadata": {
        "colab": {
          "base_uri": "https://localhost:8080/"
        },
        "id": "y5u7PGSEr98o",
        "outputId": "7cacb583-c3aa-4641-a4a2-895fc3deb11e"
      },
      "execution_count": 137,
      "outputs": [
        {
          "output_type": "stream",
          "name": "stdout",
          "text": [
            "+------+----+------------+-------------+------------+---------+--------------+-----------------+----+---------------+------+-------------------+-----------------+\n",
            "|gender| age|hypertension|heart_disease|ever_married|work_type|Residence_type|avg_glucose_level| bmi| smoking_status|stroke|Residence_typeIndex|Residence_typeVec|\n",
            "+------+----+------------+-------------+------------+---------+--------------+-----------------+----+---------------+------+-------------------+-----------------+\n",
            "|  Male|67.0|           0|            1|         Yes|  Private|         Urban|           228.69|36.6|formerly smoked|     1|                0.0|    (1,[0],[1.0])|\n",
            "|  Male|80.0|           0|            1|         Yes|  Private|         Rural|           105.92|32.5|   never smoked|     1|                1.0|        (1,[],[])|\n",
            "|Female|49.0|           0|            0|         Yes|  Private|         Urban|           171.23|34.4|         smokes|     1|                0.0|    (1,[0],[1.0])|\n",
            "+------+----+------------+-------------+------------+---------+--------------+-----------------+----+---------------+------+-------------------+-----------------+\n",
            "only showing top 3 rows\n",
            "\n"
          ]
        }
      ]
    },
    {
      "cell_type": "code",
      "source": [
        "OHE_smoking_status.fit(smoking_statusIndexer.fit(df).transform(df)).transform(smoking_statusIndexer.fit(df).transform(df)).show(3)"
      ],
      "metadata": {
        "colab": {
          "base_uri": "https://localhost:8080/"
        },
        "id": "eFaOEukor-Gi",
        "outputId": "47d6f0dd-d305-4678-b29d-1b77e9eb1999"
      },
      "execution_count": 138,
      "outputs": [
        {
          "output_type": "stream",
          "name": "stdout",
          "text": [
            "+------+----+------------+-------------+------------+---------+--------------+-----------------+----+---------------+------+-------------------+-----------------+\n",
            "|gender| age|hypertension|heart_disease|ever_married|work_type|Residence_type|avg_glucose_level| bmi| smoking_status|stroke|smoking_statusIndex|smoking_statusVec|\n",
            "+------+----+------------+-------------+------------+---------+--------------+-----------------+----+---------------+------+-------------------+-----------------+\n",
            "|  Male|67.0|           0|            1|         Yes|  Private|         Urban|           228.69|36.6|formerly smoked|     1|                2.0|    (3,[2],[1.0])|\n",
            "|  Male|80.0|           0|            1|         Yes|  Private|         Rural|           105.92|32.5|   never smoked|     1|                0.0|    (3,[0],[1.0])|\n",
            "|Female|49.0|           0|            0|         Yes|  Private|         Urban|           171.23|34.4|         smokes|     1|                3.0|        (3,[],[])|\n",
            "+------+----+------------+-------------+------------+---------+--------------+-----------------+----+---------------+------+-------------------+-----------------+\n",
            "only showing top 3 rows\n",
            "\n"
          ]
        }
      ]
    },
    {
      "cell_type": "markdown",
      "source": [
        "##Assembler"
      ],
      "metadata": {
        "id": "PKuxIy26s94a"
      }
    },
    {
      "cell_type": "code",
      "source": [
        "df.columns"
      ],
      "metadata": {
        "colab": {
          "base_uri": "https://localhost:8080/"
        },
        "id": "o4ZSh-iks_kp",
        "outputId": "d923a176-3c98-4a07-b5b1-7eda4b191ef3"
      },
      "execution_count": 139,
      "outputs": [
        {
          "output_type": "execute_result",
          "data": {
            "text/plain": [
              "['gender',\n",
              " 'age',\n",
              " 'hypertension',\n",
              " 'heart_disease',\n",
              " 'ever_married',\n",
              " 'work_type',\n",
              " 'Residence_type',\n",
              " 'avg_glucose_level',\n",
              " 'bmi',\n",
              " 'smoking_status',\n",
              " 'stroke']"
            ]
          },
          "metadata": {},
          "execution_count": 139
        }
      ]
    },
    {
      "cell_type": "code",
      "source": [
        "df.show(5)"
      ],
      "metadata": {
        "colab": {
          "base_uri": "https://localhost:8080/"
        },
        "id": "pX6N2PqltCOw",
        "outputId": "593a0276-aa63-428c-a5a5-d2d0cca14daf"
      },
      "execution_count": 140,
      "outputs": [
        {
          "output_type": "stream",
          "name": "stdout",
          "text": [
            "+------+----+------------+-------------+------------+-------------+--------------+-----------------+----+---------------+------+\n",
            "|gender| age|hypertension|heart_disease|ever_married|    work_type|Residence_type|avg_glucose_level| bmi| smoking_status|stroke|\n",
            "+------+----+------------+-------------+------------+-------------+--------------+-----------------+----+---------------+------+\n",
            "|  Male|67.0|           0|            1|         Yes|      Private|         Urban|           228.69|36.6|formerly smoked|     1|\n",
            "|  Male|80.0|           0|            1|         Yes|      Private|         Rural|           105.92|32.5|   never smoked|     1|\n",
            "|Female|49.0|           0|            0|         Yes|      Private|         Urban|           171.23|34.4|         smokes|     1|\n",
            "|Female|79.0|           1|            0|         Yes|Self-employed|         Rural|           174.12|24.0|   never smoked|     1|\n",
            "|  Male|81.0|           0|            0|         Yes|      Private|         Urban|           186.21|29.0|formerly smoked|     1|\n",
            "+------+----+------------+-------------+------------+-------------+--------------+-----------------+----+---------------+------+\n",
            "only showing top 5 rows\n",
            "\n"
          ]
        }
      ]
    },
    {
      "cell_type": "code",
      "source": [
        "F_assembler = VectorAssembler(inputCols=['genderVec', 'age', 'hypertension', 'heart_disease', 'bmi', 'smoking_statusVec', 'ever_marriedVec', 'Residence_typeVec', 'avg_glucose_level'],outputCol='X')"
      ],
      "metadata": {
        "id": "D_C4bfjBtt7m"
      },
      "execution_count": 141,
      "outputs": []
    },
    {
      "cell_type": "markdown",
      "source": [
        "#Train - Test Split"
      ],
      "metadata": {
        "id": "JO0tlDtnuaVU"
      }
    },
    {
      "cell_type": "code",
      "source": [
        "train_df,test_df = df.randomSplit([0.7,0.3])\n",
        "print(train_df.count())\n",
        "print(test_df.count())"
      ],
      "metadata": {
        "colab": {
          "base_uri": "https://localhost:8080/"
        },
        "id": "jRKgfCasuOj3",
        "outputId": "8638993b-50f5-408c-bcc3-0b0630df987a"
      },
      "execution_count": 142,
      "outputs": [
        {
          "output_type": "stream",
          "name": "stdout",
          "text": [
            "3450\n",
            "1531\n"
          ]
        }
      ]
    },
    {
      "cell_type": "code",
      "source": [
        "train_df.show(5)"
      ],
      "metadata": {
        "colab": {
          "base_uri": "https://localhost:8080/"
        },
        "id": "n0u3n9bvuh_J",
        "outputId": "304254bd-4d0f-446e-f3a0-865d043b99b4"
      },
      "execution_count": 143,
      "outputs": [
        {
          "output_type": "stream",
          "name": "stdout",
          "text": [
            "+------+----+------------+-------------+------------+---------+--------------+-----------------+----+--------------+------+\n",
            "|gender| age|hypertension|heart_disease|ever_married|work_type|Residence_type|avg_glucose_level| bmi|smoking_status|stroke|\n",
            "+------+----+------------+-------------+------------+---------+--------------+-----------------+----+--------------+------+\n",
            "|Female|0.08|           0|            0|          No| children|         Urban|           139.67|14.1|       Unknown|     0|\n",
            "|Female|0.32|           0|            0|          No| children|         Rural|            55.86|16.0|       Unknown|     0|\n",
            "|Female|0.32|           0|            0|          No| children|         Rural|            73.71|16.2|       Unknown|     0|\n",
            "|Female|0.32|           0|            0|          No| children|         Urban|           108.63|19.6|       Unknown|     0|\n",
            "|Female|0.56|           0|            0|          No| children|         Urban|            80.92|18.3|       Unknown|     0|\n",
            "+------+----+------------+-------------+------------+---------+--------------+-----------------+----+--------------+------+\n",
            "only showing top 5 rows\n",
            "\n"
          ]
        }
      ]
    },
    {
      "cell_type": "code",
      "source": [
        "test_df.show(5)"
      ],
      "metadata": {
        "colab": {
          "base_uri": "https://localhost:8080/"
        },
        "id": "FcvmJzi0ulBW",
        "outputId": "10b1886b-5a04-46d6-ffd1-505ac8d1d6b7"
      },
      "execution_count": 144,
      "outputs": [
        {
          "output_type": "stream",
          "name": "stdout",
          "text": [
            "+------+----+------------+-------------+------------+---------+--------------+-----------------+----+--------------+------+\n",
            "|gender| age|hypertension|heart_disease|ever_married|work_type|Residence_type|avg_glucose_level| bmi|smoking_status|stroke|\n",
            "+------+----+------------+-------------+------------+---------+--------------+-----------------+----+--------------+------+\n",
            "|Female| 0.4|           0|            0|          No| children|         Rural|            85.65|17.4|       Unknown|     0|\n",
            "|Female|0.48|           0|            0|          No| children|         Rural|            94.06|14.8|       Unknown|     0|\n",
            "|Female|0.48|           0|            0|          No| children|         Rural|           118.75|17.4|       Unknown|     0|\n",
            "|Female|0.64|           0|            0|          No| children|         Urban|            62.27|17.3|       Unknown|     0|\n",
            "|Female|0.72|           0|            0|          No| children|         Rural|           112.19|20.1|       Unknown|     0|\n",
            "+------+----+------------+-------------+------------+---------+--------------+-----------------+----+--------------+------+\n",
            "only showing top 5 rows\n",
            "\n"
          ]
        }
      ]
    },
    {
      "cell_type": "code",
      "source": [
        "basePipe = Pipeline(stages=[genderIndexer,ever_marriedIndexer,work_typeIndexer,Residence_typeIndexer,smoking_statusIndexer,OHE_gender,OHE_ever_married,\n",
        "                            OHE_work_type,OHE_Residence_type,OHE_smoking_status,F_assembler])\n",
        "basePipe.fit(df).transform(df).show(5)"
      ],
      "metadata": {
        "colab": {
          "base_uri": "https://localhost:8080/"
        },
        "id": "DNKaXeyDuq-B",
        "outputId": "cd87d1e0-89cb-4d9a-c85b-62e4d4cc2d6b"
      },
      "execution_count": 145,
      "outputs": [
        {
          "output_type": "stream",
          "name": "stdout",
          "text": [
            "+------+----+------------+-------------+------------+-------------+--------------+-----------------+----+---------------+------+-----------+-----------------+--------------+-------------------+-------------------+-------------+---------------+-------------+-----------------+-----------------+--------------------+\n",
            "|gender| age|hypertension|heart_disease|ever_married|    work_type|Residence_type|avg_glucose_level| bmi| smoking_status|stroke|genderIndex|ever_marriedIndex|work_typeIndex|Residence_typeIndex|smoking_statusIndex|    genderVec|ever_marriedVec| work_typeVec|Residence_typeVec|smoking_statusVec|                   X|\n",
            "+------+----+------------+-------------+------------+-------------+--------------+-----------------+----+---------------+------+-----------+-----------------+--------------+-------------------+-------------------+-------------+---------------+-------------+-----------------+-----------------+--------------------+\n",
            "|  Male|67.0|           0|            1|         Yes|      Private|         Urban|           228.69|36.6|formerly smoked|     1|        1.0|              0.0|           0.0|                0.0|                2.0|    (1,[],[])|  (1,[0],[1.0])|(3,[0],[1.0])|    (1,[0],[1.0])|    (3,[2],[1.0])|[0.0,67.0,0.0,1.0...|\n",
            "|  Male|80.0|           0|            1|         Yes|      Private|         Rural|           105.92|32.5|   never smoked|     1|        1.0|              0.0|           0.0|                1.0|                0.0|    (1,[],[])|  (1,[0],[1.0])|(3,[0],[1.0])|        (1,[],[])|    (3,[0],[1.0])|(11,[1,3,4,5,8,10...|\n",
            "|Female|49.0|           0|            0|         Yes|      Private|         Urban|           171.23|34.4|         smokes|     1|        0.0|              0.0|           0.0|                0.0|                3.0|(1,[0],[1.0])|  (1,[0],[1.0])|(3,[0],[1.0])|    (1,[0],[1.0])|        (3,[],[])|(11,[0,1,4,8,9,10...|\n",
            "|Female|79.0|           1|            0|         Yes|Self-employed|         Rural|           174.12|24.0|   never smoked|     1|        0.0|              0.0|           1.0|                1.0|                0.0|(1,[0],[1.0])|  (1,[0],[1.0])|(3,[1],[1.0])|        (1,[],[])|    (3,[0],[1.0])|[1.0,79.0,1.0,0.0...|\n",
            "|  Male|81.0|           0|            0|         Yes|      Private|         Urban|           186.21|29.0|formerly smoked|     1|        1.0|              0.0|           0.0|                0.0|                2.0|    (1,[],[])|  (1,[0],[1.0])|(3,[0],[1.0])|    (1,[0],[1.0])|    (3,[2],[1.0])|(11,[1,4,7,8,9,10...|\n",
            "+------+----+------------+-------------+------------+-------------+--------------+-----------------+----+---------------+------+-----------+-----------------+--------------+-------------------+-------------------+-------------+---------------+-------------+-----------------+-----------------+--------------------+\n",
            "only showing top 5 rows\n",
            "\n"
          ]
        }
      ]
    },
    {
      "cell_type": "code",
      "source": [
        "def model(model):\n",
        "  model_pipeline = Pipeline(stages=[basePipe,model])                   \n",
        "  model = model_pipeline.fit(train_df)\n",
        "  model_predictions=model.transform(test_df)\n",
        "  model_predictions.show(5)\n",
        "  acc_evaluator = MulticlassClassificationEvaluator(labelCol=\"stroke\", predictionCol=\"prediction\", metricName=\"accuracy\")\n",
        "  evaluator = BinaryClassificationEvaluator(labelCol='stroke')\n",
        "  model_acc=acc_evaluator.evaluate(model_predictions)\n",
        "  print(round(model_acc,3), 'is the accuray of the model pipeline')\n",
        "  model_auroc = evaluator.evaluate(model_predictions, {evaluator.metricName: \"areaUnderROC\"})\n",
        "  print(\"Area under ROC Curve: {:.4f}\".format(model_auroc))\n"
      ],
      "metadata": {
        "id": "odweDaqgvOQa"
      },
      "execution_count": 146,
      "outputs": []
    },
    {
      "cell_type": "markdown",
      "source": [
        "#Logistic Regression"
      ],
      "metadata": {
        "id": "fYd2cOf9viPi"
      }
    },
    {
      "cell_type": "code",
      "source": [
        "lr = LogisticRegression(labelCol='stroke',featuresCol='X',maxIter=5)\n",
        "model(lr)"
      ],
      "metadata": {
        "colab": {
          "base_uri": "https://localhost:8080/"
        },
        "id": "4pLZIflzvlWF",
        "outputId": "805e0506-fb2e-427b-db6a-460adf5e56e5"
      },
      "execution_count": 147,
      "outputs": [
        {
          "output_type": "stream",
          "name": "stdout",
          "text": [
            "+------+----+------------+-------------+------------+---------+--------------+-----------------+----+--------------+------+-----------+-----------------+--------------+-------------------+-------------------+-------------+---------------+-------------+-----------------+-----------------+--------------------+--------------------+--------------------+----------+\n",
            "|gender| age|hypertension|heart_disease|ever_married|work_type|Residence_type|avg_glucose_level| bmi|smoking_status|stroke|genderIndex|ever_marriedIndex|work_typeIndex|Residence_typeIndex|smoking_statusIndex|    genderVec|ever_marriedVec| work_typeVec|Residence_typeVec|smoking_statusVec|                   X|       rawPrediction|         probability|prediction|\n",
            "+------+----+------------+-------------+------------+---------+--------------+-----------------+----+--------------+------+-----------+-----------------+--------------+-------------------+-------------------+-------------+---------------+-------------+-----------------+-----------------+--------------------+--------------------+--------------------+----------+\n",
            "|Female| 0.4|           0|            0|          No| children|         Rural|            85.65|17.4|       Unknown|     0|        0.0|              1.0|           2.0|                1.0|                1.0|(1,[0],[1.0])|      (1,[],[])|(3,[2],[1.0])|        (1,[],[])|    (3,[1],[1.0])|(11,[0,1,4,6,10],...|[7.40799303231316...|[0.99939398100954...|       0.0|\n",
            "|Female|0.48|           0|            0|          No| children|         Rural|            94.06|14.8|       Unknown|     0|        0.0|              1.0|           2.0|                1.0|                1.0|(1,[0],[1.0])|      (1,[],[])|(3,[2],[1.0])|        (1,[],[])|    (3,[1],[1.0])|(11,[0,1,4,6,10],...|[7.43217242623862...|[0.99940844988412...|       0.0|\n",
            "|Female|0.48|           0|            0|          No| children|         Rural|           118.75|17.4|       Unknown|     0|        0.0|              1.0|           2.0|                1.0|                1.0|(1,[0],[1.0])|      (1,[],[])|(3,[2],[1.0])|        (1,[],[])|    (3,[1],[1.0])|(11,[0,1,4,6,10],...|[7.30933896162222...|[0.99933118829649...|       0.0|\n",
            "|Female|0.64|           0|            0|          No| children|         Urban|            62.27|17.3|       Unknown|     0|        0.0|              1.0|           2.0|                0.0|                1.0|(1,[0],[1.0])|      (1,[],[])|(3,[2],[1.0])|    (1,[0],[1.0])|    (3,[1],[1.0])|(11,[0,1,4,6,9,10...|[7.25981928373684...|[0.99929725908194...|       0.0|\n",
            "|Female|0.72|           0|            0|          No| children|         Rural|           112.19|20.1|       Unknown|     0|        0.0|              1.0|           2.0|                1.0|                1.0|(1,[0],[1.0])|      (1,[],[])|(3,[2],[1.0])|        (1,[],[])|    (3,[1],[1.0])|(11,[0,1,4,6,10],...|[7.25730364676220...|[0.99929549026244...|       0.0|\n",
            "+------+----+------------+-------------+------------+---------+--------------+-----------------+----+--------------+------+-----------+-----------------+--------------+-------------------+-------------------+-------------+---------------+-------------+-----------------+-----------------+--------------------+--------------------+--------------------+----------+\n",
            "only showing top 5 rows\n",
            "\n",
            "0.952 is the accuray of the model pipeline\n",
            "Area under ROC Curve: 0.8392\n"
          ]
        }
      ]
    },
    {
      "cell_type": "markdown",
      "source": [
        "#Decision Tree Classifier"
      ],
      "metadata": {
        "id": "rQzGZFTZvu0b"
      }
    },
    {
      "cell_type": "code",
      "source": [
        "dt = DecisionTreeClassifier(labelCol='stroke',featuresCol='X')\n",
        "model(dt)"
      ],
      "metadata": {
        "colab": {
          "base_uri": "https://localhost:8080/"
        },
        "id": "UMiIkaJVvyYh",
        "outputId": "2a904ee9-f219-485d-b095-1df9b098a434"
      },
      "execution_count": 148,
      "outputs": [
        {
          "output_type": "stream",
          "name": "stdout",
          "text": [
            "+------+----+------------+-------------+------------+---------+--------------+-----------------+----+--------------+------+-----------+-----------------+--------------+-------------------+-------------------+-------------+---------------+-------------+-----------------+-----------------+--------------------+-------------+--------------------+----------+\n",
            "|gender| age|hypertension|heart_disease|ever_married|work_type|Residence_type|avg_glucose_level| bmi|smoking_status|stroke|genderIndex|ever_marriedIndex|work_typeIndex|Residence_typeIndex|smoking_statusIndex|    genderVec|ever_marriedVec| work_typeVec|Residence_typeVec|smoking_statusVec|                   X|rawPrediction|         probability|prediction|\n",
            "+------+----+------------+-------------+------------+---------+--------------+-----------------+----+--------------+------+-----------+-----------------+--------------+-------------------+-------------------+-------------+---------------+-------------+-----------------+-----------------+--------------------+-------------+--------------------+----------+\n",
            "|Female| 0.4|           0|            0|          No| children|         Rural|            85.65|17.4|       Unknown|     0|        0.0|              1.0|           2.0|                1.0|                1.0|(1,[0],[1.0])|      (1,[],[])|(3,[2],[1.0])|        (1,[],[])|    (3,[1],[1.0])|(11,[0,1,4,6,10],...|[2740.0,69.0]|[0.97543609825560...|       0.0|\n",
            "|Female|0.48|           0|            0|          No| children|         Rural|            94.06|14.8|       Unknown|     0|        0.0|              1.0|           2.0|                1.0|                1.0|(1,[0],[1.0])|      (1,[],[])|(3,[2],[1.0])|        (1,[],[])|    (3,[1],[1.0])|(11,[0,1,4,6,10],...|[2740.0,69.0]|[0.97543609825560...|       0.0|\n",
            "|Female|0.48|           0|            0|          No| children|         Rural|           118.75|17.4|       Unknown|     0|        0.0|              1.0|           2.0|                1.0|                1.0|(1,[0],[1.0])|      (1,[],[])|(3,[2],[1.0])|        (1,[],[])|    (3,[1],[1.0])|(11,[0,1,4,6,10],...|[2740.0,69.0]|[0.97543609825560...|       0.0|\n",
            "|Female|0.64|           0|            0|          No| children|         Urban|            62.27|17.3|       Unknown|     0|        0.0|              1.0|           2.0|                0.0|                1.0|(1,[0],[1.0])|      (1,[],[])|(3,[2],[1.0])|    (1,[0],[1.0])|    (3,[1],[1.0])|(11,[0,1,4,6,9,10...|[2740.0,69.0]|[0.97543609825560...|       0.0|\n",
            "|Female|0.72|           0|            0|          No| children|         Rural|           112.19|20.1|       Unknown|     0|        0.0|              1.0|           2.0|                1.0|                1.0|(1,[0],[1.0])|      (1,[],[])|(3,[2],[1.0])|        (1,[],[])|    (3,[1],[1.0])|(11,[0,1,4,6,10],...|[2740.0,69.0]|[0.97543609825560...|       0.0|\n",
            "+------+----+------------+-------------+------------+---------+--------------+-----------------+----+--------------+------+-----------+-----------------+--------------+-------------------+-------------------+-------------+---------------+-------------+-----------------+-----------------+--------------------+-------------+--------------------+----------+\n",
            "only showing top 5 rows\n",
            "\n",
            "0.951 is the accuray of the model pipeline\n",
            "Area under ROC Curve: 0.2578\n"
          ]
        }
      ]
    },
    {
      "cell_type": "markdown",
      "source": [
        "#Random Forest"
      ],
      "metadata": {
        "id": "PAjNgnXEv4xt"
      }
    },
    {
      "cell_type": "code",
      "source": [
        "rf = RandomForestClassifier(labelCol = 'stroke',featuresCol = 'X')\n",
        "model(rf)"
      ],
      "metadata": {
        "colab": {
          "base_uri": "https://localhost:8080/"
        },
        "id": "8E0hBGlvv4Iv",
        "outputId": "6de83f86-4ff3-450f-f308-678eb470a1b7"
      },
      "execution_count": 149,
      "outputs": [
        {
          "output_type": "stream",
          "name": "stdout",
          "text": [
            "+------+----+------------+-------------+------------+---------+--------------+-----------------+----+--------------+------+-----------+-----------------+--------------+-------------------+-------------------+-------------+---------------+-------------+-----------------+-----------------+--------------------+--------------------+--------------------+----------+\n",
            "|gender| age|hypertension|heart_disease|ever_married|work_type|Residence_type|avg_glucose_level| bmi|smoking_status|stroke|genderIndex|ever_marriedIndex|work_typeIndex|Residence_typeIndex|smoking_statusIndex|    genderVec|ever_marriedVec| work_typeVec|Residence_typeVec|smoking_statusVec|                   X|       rawPrediction|         probability|prediction|\n",
            "+------+----+------------+-------------+------------+---------+--------------+-----------------+----+--------------+------+-----------+-----------------+--------------+-------------------+-------------------+-------------+---------------+-------------+-----------------+-----------------+--------------------+--------------------+--------------------+----------+\n",
            "|Female| 0.4|           0|            0|          No| children|         Rural|            85.65|17.4|       Unknown|     0|        0.0|              1.0|           2.0|                1.0|                1.0|(1,[0],[1.0])|      (1,[],[])|(3,[2],[1.0])|        (1,[],[])|    (3,[1],[1.0])|(11,[0,1,4,6,10],...|[19.7933888698757...|[0.98966944349378...|       0.0|\n",
            "|Female|0.48|           0|            0|          No| children|         Rural|            94.06|14.8|       Unknown|     0|        0.0|              1.0|           2.0|                1.0|                1.0|(1,[0],[1.0])|      (1,[],[])|(3,[2],[1.0])|        (1,[],[])|    (3,[1],[1.0])|(11,[0,1,4,6,10],...|[19.7933888698757...|[0.98966944349378...|       0.0|\n",
            "|Female|0.48|           0|            0|          No| children|         Rural|           118.75|17.4|       Unknown|     0|        0.0|              1.0|           2.0|                1.0|                1.0|(1,[0],[1.0])|      (1,[],[])|(3,[2],[1.0])|        (1,[],[])|    (3,[1],[1.0])|(11,[0,1,4,6,10],...|[19.7933888698757...|[0.98966944349378...|       0.0|\n",
            "|Female|0.64|           0|            0|          No| children|         Urban|            62.27|17.3|       Unknown|     0|        0.0|              1.0|           2.0|                0.0|                1.0|(1,[0],[1.0])|      (1,[],[])|(3,[2],[1.0])|    (1,[0],[1.0])|    (3,[1],[1.0])|(11,[0,1,4,6,9,10...|[19.7901375269297...|[0.98950687634648...|       0.0|\n",
            "|Female|0.72|           0|            0|          No| children|         Rural|           112.19|20.1|       Unknown|     0|        0.0|              1.0|           2.0|                1.0|                1.0|(1,[0],[1.0])|      (1,[],[])|(3,[2],[1.0])|        (1,[],[])|    (3,[1],[1.0])|(11,[0,1,4,6,10],...|[19.7933888698757...|[0.98966944349378...|       0.0|\n",
            "+------+----+------------+-------------+------------+---------+--------------+-----------------+----+--------------+------+-----------+-----------------+--------------+-------------------+-------------------+-------------+---------------+-------------+-----------------+-----------------+--------------------+--------------------+--------------------+----------+\n",
            "only showing top 5 rows\n",
            "\n",
            "0.952 is the accuray of the model pipeline\n",
            "Area under ROC Curve: 0.8470\n"
          ]
        }
      ]
    },
    {
      "cell_type": "markdown",
      "source": [
        "#Gradient Boost"
      ],
      "metadata": {
        "id": "hJMoiISVwNts"
      }
    },
    {
      "cell_type": "code",
      "source": [
        "gbt = GBTClassifier(labelCol='stroke',featuresCol='X')\n",
        "model(gbt)"
      ],
      "metadata": {
        "colab": {
          "base_uri": "https://localhost:8080/"
        },
        "id": "aC6hTvMSwQyX",
        "outputId": "810b6ef5-38e9-410a-bdb5-a40dd08473fd"
      },
      "execution_count": 150,
      "outputs": [
        {
          "output_type": "stream",
          "name": "stdout",
          "text": [
            "+------+----+------------+-------------+------------+---------+--------------+-----------------+----+--------------+------+-----------+-----------------+--------------+-------------------+-------------------+-------------+---------------+-------------+-----------------+-----------------+--------------------+--------------------+--------------------+----------+\n",
            "|gender| age|hypertension|heart_disease|ever_married|work_type|Residence_type|avg_glucose_level| bmi|smoking_status|stroke|genderIndex|ever_marriedIndex|work_typeIndex|Residence_typeIndex|smoking_statusIndex|    genderVec|ever_marriedVec| work_typeVec|Residence_typeVec|smoking_statusVec|                   X|       rawPrediction|         probability|prediction|\n",
            "+------+----+------------+-------------+------------+---------+--------------+-----------------+----+--------------+------+-----------+-----------------+--------------+-------------------+-------------------+-------------+---------------+-------------+-----------------+-----------------+--------------------+--------------------+--------------------+----------+\n",
            "|Female| 0.4|           0|            0|          No| children|         Rural|            85.65|17.4|       Unknown|     0|        0.0|              1.0|           2.0|                1.0|                1.0|(1,[0],[1.0])|      (1,[],[])|(3,[2],[1.0])|        (1,[],[])|    (3,[1],[1.0])|(11,[0,1,4,6,10],...|[1.51118236172208...|[0.95357432493339...|       0.0|\n",
            "|Female|0.48|           0|            0|          No| children|         Rural|            94.06|14.8|       Unknown|     0|        0.0|              1.0|           2.0|                1.0|                1.0|(1,[0],[1.0])|      (1,[],[])|(3,[2],[1.0])|        (1,[],[])|    (3,[1],[1.0])|(11,[0,1,4,6,10],...|[1.51118236172208...|[0.95357432493339...|       0.0|\n",
            "|Female|0.48|           0|            0|          No| children|         Rural|           118.75|17.4|       Unknown|     0|        0.0|              1.0|           2.0|                1.0|                1.0|(1,[0],[1.0])|      (1,[],[])|(3,[2],[1.0])|        (1,[],[])|    (3,[1],[1.0])|(11,[0,1,4,6,10],...|[1.52037576702714...|[0.95438156022813...|       0.0|\n",
            "|Female|0.64|           0|            0|          No| children|         Urban|            62.27|17.3|       Unknown|     0|        0.0|              1.0|           2.0|                0.0|                1.0|(1,[0],[1.0])|      (1,[],[])|(3,[2],[1.0])|    (1,[0],[1.0])|    (3,[1],[1.0])|(11,[0,1,4,6,9,10...|[1.48351238564236...|[0.95106198636961...|       0.0|\n",
            "|Female|0.72|           0|            0|          No| children|         Rural|           112.19|20.1|       Unknown|     0|        0.0|              1.0|           2.0|                1.0|                1.0|(1,[0],[1.0])|      (1,[],[])|(3,[2],[1.0])|        (1,[],[])|    (3,[1],[1.0])|(11,[0,1,4,6,10],...|[1.52037576702714...|[0.95438156022813...|       0.0|\n",
            "+------+----+------------+-------------+------------+---------+--------------+-----------------+----+--------------+------+-----------+-----------------+--------------+-------------------+-------------------+-------------+---------------+-------------+-----------------+-----------------+--------------------+--------------------+--------------------+----------+\n",
            "only showing top 5 rows\n",
            "\n",
            "0.951 is the accuray of the model pipeline\n",
            "Area under ROC Curve: 0.8341\n"
          ]
        }
      ]
    },
    {
      "cell_type": "markdown",
      "source": [
        ""
      ],
      "metadata": {
        "id": "ZuGmzR1pwUla"
      }
    },
    {
      "cell_type": "markdown",
      "source": [
        "#Linear SVM"
      ],
      "metadata": {
        "id": "_W10RgFawUsZ"
      }
    },
    {
      "cell_type": "code",
      "source": [
        "svm=LinearSVC(labelCol='stroke',featuresCol='X')\n",
        "model(svm)"
      ],
      "metadata": {
        "colab": {
          "base_uri": "https://localhost:8080/"
        },
        "id": "V4ckm1hNwUAx",
        "outputId": "4101b78e-04c9-45fd-a366-e8b6a3891d99"
      },
      "execution_count": 151,
      "outputs": [
        {
          "output_type": "stream",
          "name": "stdout",
          "text": [
            "+------+----+------------+-------------+------------+---------+--------------+-----------------+----+--------------+------+-----------+-----------------+--------------+-------------------+-------------------+-------------+---------------+-------------+-----------------+-----------------+--------------------+--------------------+----------+\n",
            "|gender| age|hypertension|heart_disease|ever_married|work_type|Residence_type|avg_glucose_level| bmi|smoking_status|stroke|genderIndex|ever_marriedIndex|work_typeIndex|Residence_typeIndex|smoking_statusIndex|    genderVec|ever_marriedVec| work_typeVec|Residence_typeVec|smoking_statusVec|                   X|       rawPrediction|prediction|\n",
            "+------+----+------------+-------------+------------+---------+--------------+-----------------+----+--------------+------+-----------+-----------------+--------------+-------------------+-------------------+-------------+---------------+-------------+-----------------+-----------------+--------------------+--------------------+----------+\n",
            "|Female| 0.4|           0|            0|          No| children|         Rural|            85.65|17.4|       Unknown|     0|        0.0|              1.0|           2.0|                1.0|                1.0|(1,[0],[1.0])|      (1,[],[])|(3,[2],[1.0])|        (1,[],[])|    (3,[1],[1.0])|(11,[0,1,4,6,10],...|[1.01133922387716...|       0.0|\n",
            "|Female|0.48|           0|            0|          No| children|         Rural|            94.06|14.8|       Unknown|     0|        0.0|              1.0|           2.0|                1.0|                1.0|(1,[0],[1.0])|      (1,[],[])|(3,[2],[1.0])|        (1,[],[])|    (3,[1],[1.0])|(11,[0,1,4,6,10],...|[1.01133903435357...|       0.0|\n",
            "|Female|0.48|           0|            0|          No| children|         Rural|           118.75|17.4|       Unknown|     0|        0.0|              1.0|           2.0|                1.0|                1.0|(1,[0],[1.0])|      (1,[],[])|(3,[2],[1.0])|        (1,[],[])|    (3,[1],[1.0])|(11,[0,1,4,6,10],...|[1.01133764600311...|       0.0|\n",
            "|Female|0.64|           0|            0|          No| children|         Urban|            62.27|17.3|       Unknown|     0|        0.0|              1.0|           2.0|                0.0|                1.0|(1,[0],[1.0])|      (1,[],[])|(3,[2],[1.0])|    (1,[0],[1.0])|    (3,[1],[1.0])|(11,[0,1,4,6,9,10...|[1.01133937276379...|       0.0|\n",
            "|Female|0.72|           0|            0|          No| children|         Rural|           112.19|20.1|       Unknown|     0|        0.0|              1.0|           2.0|                1.0|                1.0|(1,[0],[1.0])|      (1,[],[])|(3,[2],[1.0])|        (1,[],[])|    (3,[1],[1.0])|(11,[0,1,4,6,10],...|[1.01133773920736...|       0.0|\n",
            "+------+----+------------+-------------+------------+---------+--------------+-----------------+----+--------------+------+-----------+-----------------+--------------+-------------------+-------------------+-------------+---------------+-------------+-----------------+-----------------+--------------------+--------------------+----------+\n",
            "only showing top 5 rows\n",
            "\n",
            "0.952 is the accuray of the model pipeline\n",
            "Area under ROC Curve: 0.5968\n"
          ]
        }
      ]
    },
    {
      "cell_type": "markdown",
      "source": [
        "#Naive Bayes"
      ],
      "metadata": {
        "id": "hkdUtwVLweNh"
      }
    },
    {
      "cell_type": "code",
      "source": [
        "nb=NaiveBayes(labelCol='stroke',featuresCol='X')\n",
        "model(nb)"
      ],
      "metadata": {
        "colab": {
          "base_uri": "https://localhost:8080/"
        },
        "id": "jkmHK00Rwbg8",
        "outputId": "fe324ea4-25b8-4d05-8d2e-4bd67e1d9363"
      },
      "execution_count": 152,
      "outputs": [
        {
          "output_type": "stream",
          "name": "stdout",
          "text": [
            "+------+----+------------+-------------+------------+---------+--------------+-----------------+----+--------------+------+-----------+-----------------+--------------+-------------------+-------------------+-------------+---------------+-------------+-----------------+-----------------+--------------------+--------------------+--------------------+----------+\n",
            "|gender| age|hypertension|heart_disease|ever_married|work_type|Residence_type|avg_glucose_level| bmi|smoking_status|stroke|genderIndex|ever_marriedIndex|work_typeIndex|Residence_typeIndex|smoking_statusIndex|    genderVec|ever_marriedVec| work_typeVec|Residence_typeVec|smoking_statusVec|                   X|       rawPrediction|         probability|prediction|\n",
            "+------+----+------------+-------------+------------+---------+--------------+-----------------+----+--------------+------+-----------+-----------------+--------------+-------------------+-------------------+-------------+---------------+-------------+-----------------+-----------------+--------------------+--------------------+--------------------+----------+\n",
            "|Female| 0.4|           0|            0|          No| children|         Rural|            85.65|17.4|       Unknown|     0|        0.0|              1.0|           2.0|                1.0|                1.0|(1,[0],[1.0])|      (1,[],[])|(3,[2],[1.0])|        (1,[],[])|    (3,[1],[1.0])|(11,[0,1,4,6,10],...|[-90.175213651326...|[0.99998411857517...|       0.0|\n",
            "|Female|0.48|           0|            0|          No| children|         Rural|            94.06|14.8|       Unknown|     0|        0.0|              1.0|           2.0|                1.0|                1.0|(1,[0],[1.0])|      (1,[],[])|(3,[2],[1.0])|        (1,[],[])|    (3,[1],[1.0])|(11,[0,1,4,6,10],...|[-89.966939984104...|[0.99998128324074...|       0.0|\n",
            "|Female|0.48|           0|            0|          No| children|         Rural|           118.75|17.4|       Unknown|     0|        0.0|              1.0|           2.0|                1.0|                1.0|(1,[0],[1.0])|      (1,[],[])|(3,[2],[1.0])|        (1,[],[])|    (3,[1],[1.0])|(11,[0,1,4,6,10],...|[-107.84503883103...|[0.99999596506518...|       0.0|\n",
            "|Female|0.64|           0|            0|          No| children|         Urban|            62.27|17.3|       Unknown|     0|        0.0|              1.0|           2.0|                0.0|                1.0|(1,[0],[1.0])|      (1,[],[])|(3,[2],[1.0])|    (1,[0],[1.0])|    (3,[1],[1.0])|(11,[0,1,4,6,9,10...|[-83.795038549758...|[0.99996151116913...|       0.0|\n",
            "|Female|0.72|           0|            0|          No| children|         Rural|           112.19|20.1|       Unknown|     0|        0.0|              1.0|           2.0|                1.0|                1.0|(1,[0],[1.0])|      (1,[],[])|(3,[2],[1.0])|        (1,[],[])|    (3,[1],[1.0])|(11,[0,1,4,6,10],...|[-109.67850775399...|[0.99999668531850...|       0.0|\n",
            "+------+----+------------+-------------+------------+---------+--------------+-----------------+----+--------------+------+-----------+-----------------+--------------+-------------------+-------------------+-------------+---------------+-------------+-----------------+-----------------+--------------------+--------------------+--------------------+----------+\n",
            "only showing top 5 rows\n",
            "\n",
            "0.818 is the accuray of the model pipeline\n",
            "Area under ROC Curve: 0.1906\n"
          ]
        }
      ]
    },
    {
      "cell_type": "markdown",
      "source": [
        "### CONCLUSION: The best fit model is Random Forest with an accuracy of the pipeline 94.6% and Area under the curve is around 80.57%"
      ],
      "metadata": {
        "id": "vfan9c5OwoOa"
      }
    },
    {
      "cell_type": "code",
      "source": [
        ""
      ],
      "metadata": {
        "id": "k0d0GR0HxEK6"
      },
      "execution_count": 152,
      "outputs": []
    }
  ]
}